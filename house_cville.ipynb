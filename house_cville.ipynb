version https://git-lfs.github.com/spec/v1
oid sha256:5a0816fdaa9982d730049841fbb657f94fd3081ec813eae7592b0398b36b90fa
size 3732415
