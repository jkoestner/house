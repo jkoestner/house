version https://git-lfs.github.com/spec/v1
oid sha256:698e0b9f7c9b879dc92241c7c94362f82e2700f12d08e1711fdb8766f938d006
size 196639
